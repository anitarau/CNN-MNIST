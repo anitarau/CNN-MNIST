{
 "cells": [
  
  {
   "cell_type": "code",
   "execution_count": 1,
   "metadata": {
    "collapsed": false,
    "scrolled": true
   },
   "outputs": [
    {
     "name": "stdout",
     "output_type": "stream",
     "text": [
      "Extracting /tmp/data/train-images-idx3-ubyte.gz\n",
      "Extracting /tmp/data/train-labels-idx1-ubyte.gz\n",
      "Extracting /tmp/data/t10k-images-idx3-ubyte.gz\n",
      "Extracting /tmp/data/t10k-labels-idx1-ubyte.gz\n"
     ]
    }
   ],
   "source": [
    "import tensorflow as tf\n",
    "import numpy as np\n",
    "from tensorflow.examples.tutorials.mnist import input_data\n",
    "mnist = input_data.read_data_sets(\"/tmp/data/\", one_hot = True)\n",
    "\n",
    "#### change directory if neccessary #################################\n",
    "MODEL_FOLDER   = \"C:/Users/Anita/Documents/UCL/AdvancedTopicsML/Assignment_2/models/lstm_32_d0002_3_layers/\"\n",
    "####################################################################\n",
    "MODEL_FILENAME = MODEL_FOLDER+\"rnn_model__d0002_lstm_3_layers_blaze.ckpt\" \n",
    "\n",
    "logs_path = 'C:/Users/Anita/Documents/UCL/AdvancedTopicsML/Assignment_2/models/lstm_32_d0002_3_layers'\n",
    "\n",
    "hm_epochs = 30\n",
    "n_output = 10\n",
    "batch_size = 128\n",
    "chunk_size = 1\n",
    "n_chunks = 784\n",
    "rnn_size = 32\n",
    "n_lin_layer = 100\n",
    "learning_rate = tf.placeholder('float')\n",
    "output_keep_prob = tf.placeholder('float')\n",
    "num_runs = int(mnist.train.num_examples/batch_size)\n",
    "\n",
    "    "
   ]
  },
  {
   "cell_type": "code",
   "execution_count": 2,
   "metadata": {
    "collapsed": true
   },
   "outputs": [],
   "source": [
    "# threshold function\n",
    "def binarize(images, threshold=0.1):\n",
    "    return (threshold < images).astype('float32')"
   ]
  },
  {
   "cell_type": "markdown",
   "metadata": {},
   "source": [
    "<h4>Define model</h4>"
   ]
  },
  {
   "cell_type": "code",
   "execution_count": 3,
   "metadata": {
    "collapsed": false
   },
   "outputs": [],
   "source": [
    "# define placeholders\n",
    "x = tf.placeholder('float', [None, n_chunks,chunk_size],name='InputData')\n",
    "y = tf.placeholder('float',name='LabelData')\n",
    "\n",
    "# define Variables for hidden layers\n",
    "    \n",
    "layer1 = {'weights':tf.Variable(tf.random_normal([rnn_size,n_lin_layer]),name='Weights1'),\n",
    "         'biases':tf.Variable(tf.random_normal([n_lin_layer]),name='Bias1')}\n",
    "   \n",
    "layer2 = {'weights':tf.Variable(tf.random_normal([n_lin_layer,n_output]),name='Weights2'),\n",
    "         'biases':tf.Variable(tf.random_normal([n_output]),name='Bias2')}\n",
    "\n",
    "# define rnn cell    \n",
    "lstm_cell = tf.nn.rnn_cell.LSTMCell(rnn_size,state_is_tuple=True)\n",
    "lstm_cell = tf.nn.rnn_cell.DropoutWrapper(lstm_cell, output_keep_prob)\n",
    "lstm_cell = tf.nn.rnn_cell.MultiRNNCell(cells=[lstm_cell] * 3)\n",
    "outputs, states = tf.nn.dynamic_rnn(cell = lstm_cell, inputs = x,dtype=tf.float32)\n",
    "\n",
    "# first hidden layer, use only output of last pixel for classification\n",
    "output = tf.matmul(outputs[:,-1,:],layer1['weights']) + layer1['biases']\n",
    "nonlin_layer = tf.nn.relu(output)\n",
    "\n",
    "# second hidden layer\n",
    "output2 = tf.matmul(nonlin_layer,layer2['weights']) + layer2['biases']\n"
   ]
  },
  {
   "cell_type": "code",
   "execution_count": 4,
   "metadata": {
    "collapsed": false
   },
   "outputs": [],
   "source": [
    "# define loss function, optimizer and accuracy\n",
    "\n",
    "with tf.name_scope('Model'):\n",
    "    prediction = output2\n",
    "with tf.name_scope('Loss'):\n",
    "    loss = tf.reduce_mean( tf.nn.softmax_cross_entropy_with_logits(prediction,y))\n",
    "with tf.name_scope('Optimizer'):\n",
    "    optimizer = tf.train.AdamOptimizer(learning_rate).minimize(loss)\n",
    "        \n",
    "correct_output = tf.equal(tf.argmax(prediction, 1), tf.argmax(y, 1))\n",
    "with tf.name_scope('Accuracy'):\n",
    "    accuracy = tf.reduce_mean(tf.cast(correct_output, 'float'))\n",
    "    \n",
    "    \n",
    "# Create summary for loss and accuracy\n",
    "tf.summary.scalar(\"loss\", loss)\n",
    "tf.summary.scalar(\"accuracy\", accuracy)\n",
    "merged_summary_op = tf.summary.merge_all()\n",
    "\n",
    "#init saver\n",
    "saver = tf.train.Saver()"
   ]
  },
  {
   "cell_type": "markdown",
   "metadata": {},
   "source": [
    "<h4>Train model </h4>"
   ]
  },
  {
   "cell_type": "code",
   "execution_count": null,
   "metadata": {
    "collapsed": false
   },
   "outputs": [],
   "source": [
    "\n",
    "with tf.Session() as sess:\n",
    "    okp = 0.8\n",
    "    sess.run(tf.global_variables_initializer())\n",
    "    summary_writer = tf.summary.FileWriter(logs_path, graph=tf.get_default_graph())\n",
    "    for epoch in range(hm_epochs):\n",
    "        if (epoch <20):\n",
    "            lr = 0.0002\n",
    "        else:\n",
    "            lr = 0.00005\n",
    "        for i in range(num_runs): #int(mnist.train.num_examples/batch_size)\n",
    "            epoch_x, epoch_y = mnist.train.next_batch(batch_size)\n",
    "            epoch_x = binarize(epoch_x)\n",
    "            epoch_x = epoch_x.reshape((batch_size,n_chunks,chunk_size))\n",
    "            _, _ , _, summary = sess.run([optimizer, loss, accuracy,merged_summary_op],\n",
    "                                           feed_dict={x: epoch_x,y: epoch_y, learning_rate:lr, output_keep_prob:okp })\n",
    "            summary_writer.add_summary(summary, epoch * num_runs + i)\n",
    "        \n",
    "    print('Training finished')        \n",
    "    saver.save(sess, MODEL_FILENAME)\n",
    "    print('Model saved') "
   ]
  },
  {
   "cell_type": "markdown",
   "metadata": {
    "collapsed": false
   },
   "source": [
    "<h4>Restore model</h4>"
   ]
  },
  {
   "cell_type": "code",
   "execution_count": 6,
   "metadata": {
    "collapsed": false
   },
   "outputs": [
    {
     "name": "stdout",
     "output_type": "stream",
     "text": [
      "Restored values:\n",
      "Testing Accuracy: 0.75390, testing Loss 0.69015\n"
     ]
    }
   ],
   "source": [
    "#restore model and calculate testing accuracy and loss \n",
    "with tf.Session() as sess:\n",
    "    okp=1\n",
    "    lr = 0.0002\n",
    "    saver = tf.train.Saver()\n",
    "    sess.run(tf.global_variables_initializer())\n",
    "    saver.restore(sess = sess, save_path= MODEL_FILENAME)\n",
    "    print(\"Restored values:\")\n",
    "    loss_test , acc_test = sess.run([ loss, accuracy], feed_dict=\n",
    "                                       {x:mnist.test.images.reshape((-1, n_chunks, chunk_size)), \n",
    "                                        y:mnist.test.labels,learning_rate:lr,output_keep_prob:okp})\n",
    "    print('Testing Accuracy: %.5f, testing Loss %.5f' %(acc_test,loss_test))\n",
    "        "
   ]
  },
  {
   "cell_type": "code",
   "execution_count": 7,
   "metadata": {
    "collapsed": false
   },
   "outputs": [
    {
     "name": "stdout",
     "output_type": "stream",
     "text": [
      "Restored values:\n",
      "Training Accuracy: 0.74684, training Loss: 0.71088\n"
     ]
    }
   ],
   "source": [
    "# restore model and calculate training accuracy and loss \n",
    "# devide training set in 10 deterministic batches for easier computation\n",
    "with tf.Session() as sess:\n",
    "    okp=1\n",
    "    lr = 0.0002\n",
    "    saver = tf.train.Saver()\n",
    "    sess.run(tf.global_variables_initializer())\n",
    "    saver.restore(sess = sess, save_path= MODEL_FILENAME)\n",
    "    print(\"Restored values:\")\n",
    "    loss_train_sum = 0\n",
    "    acc_train_sum = 0\n",
    "    for j in range(10):\n",
    "        loss_train , acc_train = sess.run([loss, accuracy],feed_dict=\n",
    "                                       {x:mnist.train.images[5500*j:5500*(j+1),:].reshape((-1, n_chunks, chunk_size)),\n",
    "                                        y:mnist.train.labels[5500*j:5500*(j+1),:],learning_rate:lr,output_keep_prob:okp})\n",
    "        loss_train_sum += loss_train\n",
    "        acc_train_sum += acc_train\n",
    "    loss_train_ave = loss_train_sum/10\n",
    "    acc_train_ave = acc_train_sum/10\n",
    "    print('Training Accuracy: %.5f, training Loss: %.5f' %(acc_train_ave,loss_train_ave))"
   ]
  },
  {
   "cell_type": "code",
   "execution_count": null,
   "metadata": {
    "collapsed": true
   },
   "outputs": [],
   "source": []
  }
 ],
 "metadata": {
  "anaconda-cloud": {},
  "kernelspec": {
   "display_name": "Python [default]",
   "language": "python",
   "name": "python3"
  },
  "language_info": {
   "codemirror_mode": {
    "name": "ipython",
    "version": 3
   },
   "file_extension": ".py",
   "mimetype": "text/x-python",
   "name": "python",
   "nbconvert_exporter": "python",
   "pygments_lexer": "ipython3",
   "version": "3.5.2"
  }
 },
 "nbformat": 4,
 "nbformat_minor": 1
}
