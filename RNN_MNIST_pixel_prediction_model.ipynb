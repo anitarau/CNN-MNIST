{
 "cells": [
  {
   "cell_type": "markdown",
   "metadata": {},
   "source": [
    "# Advanced Topics in ML "
   ]
  },
  {
   "cell_type": "code",
   "execution_count": 1,
   "metadata": {
    "collapsed": false,
    "scrolled": true
   },
   "outputs": [
    {
     "name": "stdout",
     "output_type": "stream",
     "text": [
      "Extracting /tmp/data/train-images-idx3-ubyte.gz\n",
      "Extracting /tmp/data/train-labels-idx1-ubyte.gz\n",
      "Extracting /tmp/data/t10k-images-idx3-ubyte.gz\n",
      "Extracting /tmp/data/t10k-labels-idx1-ubyte.gz\n"
     ]
    }
   ],
   "source": [
    "import tensorflow as tf\n",
    "import numpy as np\n",
    "from tensorflow.examples.tutorials.mnist import input_data\n",
    "mnist = input_data.read_data_sets(\"/tmp/data/\", one_hot = True)\n",
    "\n",
    "#### change directory if neccessary #####################################################################\n",
    "MODEL_FOLDER   = \"C:/Users/Anita/Documents/UCL/AdvancedTopicsML/Assignment_2/models/pixel_prediction_3x32/\"\n",
    "#########################################################################################################\n",
    "\n",
    "MODEL_FILENAME = MODEL_FOLDER+\"rnn_model_gru_3_layer_pixel_prediction.ckpt\" \n",
    "MODEL_FILENAME_iter = MODEL_FOLDER+\"rnn_model_gru_3_layer_pixel_prediction_iter.ckpt\"\n",
    "\n",
    "logs_path = 'trained_models/pixel_prediction_3_layer'\n",
    "\n",
    "hm_epochs = 40\n",
    "n_output = 1\n",
    "batch_size = 128\n",
    "chunk_size = 1\n",
    "n_chunks = 784\n",
    "rnn_size = 32\n",
    "learning_rate = tf.placeholder('float')\n",
    "num_runs = int(mnist.train.num_examples/batch_size)\n",
    "\n",
    "    "
   ]
  },
  {
   "cell_type": "code",
   "execution_count": 2,
   "metadata": {
    "collapsed": true
   },
   "outputs": [],
   "source": [
    "# threshold function\n",
    "def binarize(images, threshold=0.1):\n",
    "    return (threshold < images).astype('float32')"
   ]
  },
  {
   "cell_type": "markdown",
   "metadata": {},
   "source": [
    "<h4>Define model</h4>"
   ]
  },
  {
   "cell_type": "code",
   "execution_count": 3,
   "metadata": {
    "collapsed": false
   },
   "outputs": [],
   "source": [
    "# define placeholders\n",
    "x = tf.placeholder('float', [None, n_chunks,chunk_size],name='InputData')\n",
    "y = tf.placeholder('float',name='LabelData')\n",
    "\n",
    "# define Variables for hidden layers\n",
    "    \n",
    "layer1 = {'weights':tf.Variable(tf.random_normal([rnn_size,n_output]),name='Weights1'), #32 x 1\n",
    "         'biases':tf.Variable(tf.random_normal([n_output]),name='Bias1')}\n",
    "\n",
    "# define rnn cell    \n",
    "gru_cell = tf.nn.rnn_cell.GRUCell(rnn_size)\n",
    "gru_cell = tf.nn.rnn_cell.MultiRNNCell(cells=[gru_cell] * 3)\n",
    "outputs, states = tf.nn.dynamic_rnn(cell = gru_cell, inputs = x,dtype=tf.float32)\n",
    "\n",
    "# flatten\n",
    "outputs_reshaped = tf.reshape(outputs, [-1, rnn_size]) #(128*784) x 32\n",
    "\n",
    "# first hidden layer\n",
    "output = tf.matmul(outputs_reshaped,layer1['weights']) + layer1['biases'] # (128*784) x 1\n",
    "prediction = tf.reshape(output,[-1,n_chunks])\n",
    "prediction = prediction[:,0:783]\n",
    "\n",
    "groundtruth = tf.reshape(x,[-1,n_chunks])\n",
    "groundtruth = groundtruth[:,1:]\n"
   ]
  },
  {
   "cell_type": "code",
   "execution_count": 4,
   "metadata": {
    "collapsed": false
   },
   "outputs": [],
   "source": [
    "# define loss function and optimizer\n",
    "\n",
    "with tf.name_scope('Model'):\n",
    "    logits = prediction\n",
    "with tf.name_scope('Loss'):\n",
    "    loss = tf.reduce_mean(tf.reduce_sum(tf.nn.sigmoid_cross_entropy_with_logits(logits,groundtruth),1))\n",
    "with tf.name_scope('Optimizer'):\n",
    "    optimizer = tf.train.AdamOptimizer(learning_rate).minimize(loss)\n",
    "        \n",
    "    \n",
    "# Create summary for loss and accuracy\n",
    "tf.summary.scalar(\"loss\", loss)\n",
    "merged_summary_op = tf.summary.merge_all()\n",
    "\n",
    "#init saver\n",
    "saver = tf.train.Saver()"
   ]
  },
  {
   "cell_type": "markdown",
   "metadata": {},
   "source": [
    "<h4>Train model - (!!! Don't rerun this cell !!!)</h4>"
   ]
  },
  {
   "cell_type": "code",
   "execution_count": null,
   "metadata": {
    "collapsed": false
   },
   "outputs": [],
   "source": [
    "### DO NOT RUN ###\n",
    "with tf.Session() as sess:\n",
    "    sess.run(tf.global_variables_initializer())\n",
    "    summary_writer = tf.summary.FileWriter(logs_path, graph=tf.get_default_graph())\n",
    "    for epoch in range(hm_epochs):\n",
    "        if (epoch < 25):\n",
    "            lr=0.0003\n",
    "        else:\n",
    "            lr=0.00005\n",
    "        for i in range(num_runs): \n",
    "            epoch_x, epoch_y = mnist.train.next_batch(batch_size)\n",
    "            epoch_x = binarize(epoch_x)\n",
    "            epoch_x = epoch_x.reshape((batch_size,n_chunks,chunk_size))\n",
    "            _, _ , summary = sess.run([optimizer, loss ,merged_summary_op],\n",
    "                                           feed_dict={x: epoch_x,y: epoch_y,learning_rate:lr})\n",
    "            summary_writer.add_summary(summary, epoch * num_runs + i)\n",
    "        saver.save(sess, MODEL_FILENAME_iter)\n",
    "    print('Training finished')        \n",
    "    saver.save(sess, MODEL_FILENAME)\n",
    "    print('Model saved') "
   ]
  },
  {
   "cell_type": "markdown",
   "metadata": {
    "collapsed": false
   },
   "source": [
    "<h4>Restore model</h4>"
   ]
  },
  {
   "cell_type": "code",
   "execution_count": 5,
   "metadata": {
    "collapsed": false
   },
   "outputs": [
    {
     "name": "stdout",
     "output_type": "stream",
     "text": [
      "Restored values:\n",
      "Testing loss: 73.0449\n"
     ]
    }
   ],
   "source": [
    "# restore model to get testing loss \n",
    "with tf.Session() as sess:\n",
    "    saver = tf.train.Saver()\n",
    "    sess.run(tf.global_variables_initializer())\n",
    "    saver.restore(sess = sess, save_path= MODEL_FILENAME)\n",
    "    print(\"Restored values:\")\n",
    "    epoch_X = mnist.test.images\n",
    "    epoch_Y = mnist.test.labels\n",
    "    epoch_X = binarize(epoch_X)\n",
    "    epoch_X = epoch_X.reshape((-1,n_chunks,chunk_size))    \n",
    "    loss_test = sess.run(loss,feed_dict={x:epoch_X, y:epoch_Y})\n",
    "    print('Testing loss:',loss_test) "
   ]
  },
  {
   "cell_type": "code",
   "execution_count": 6,
   "metadata": {
    "collapsed": false
   },
   "outputs": [
    {
     "name": "stdout",
     "output_type": "stream",
     "text": [
      "Restored values:\n",
      "Training loss: 73.6893409729\n"
     ]
    }
   ],
   "source": [
    "# restore model to get training loss\n",
    "# divide training set in 10 deterministic batches for easier computation\n",
    "with tf.Session() as sess:\n",
    "    saver = tf.train.Saver()\n",
    "    sess.run(tf.global_variables_initializer())\n",
    "    saver.restore(sess = sess, save_path= MODEL_FILENAME)\n",
    "    print(\"Restored values:\")\n",
    "    loss_train_sum = 0\n",
    "    for j in range(10):\n",
    "        epoch_X = mnist.train.images[5500*j:5500*(j+1),:]\n",
    "        epoch_Y = mnist.train.labels[5500*j:5500*(j+1),:]\n",
    "        epoch_X = binarize(epoch_X)\n",
    "        epoch_X = epoch_X.reshape((-1,n_chunks,chunk_size))    \n",
    "        loss_train = sess.run(loss,feed_dict={x:epoch_X, y:epoch_Y})\n",
    "        loss_train_sum += loss_train\n",
    "    loss_train_ave = loss_train_sum/10\n",
    "    print('Training loss:',loss_train_ave)"
   ]
  },
  {
   "cell_type": "code",
   "execution_count": null,
   "metadata": {
    "collapsed": true
   },
   "outputs": [],
   "source": []
  }
 ],
 "metadata": {
  "anaconda-cloud": {},
  "kernelspec": {
   "display_name": "Python [default]",
   "language": "python",
   "name": "python3"
  },
  "language_info": {
   "codemirror_mode": {
    "name": "ipython",
    "version": 3
   },
   "file_extension": ".py",
   "mimetype": "text/x-python",
   "name": "python",
   "nbconvert_exporter": "python",
   "pygments_lexer": "ipython3",
   "version": "3.5.2"
  }
 },
 "nbformat": 4,
 "nbformat_minor": 1
}
